{
 "cells": [
  {
   "cell_type": "code",
   "execution_count": 3,
   "metadata": {},
   "outputs": [
    {
     "name": "stdout",
     "output_type": "stream",
     "text": [
      "15\n",
      "guess a number between 0 to 20: 11\n",
      "your guess is lesser than the number\n",
      "guess a number between 0 to 20: 15\n",
      "your guess is correct\n",
      "Do you want to play again?(Yes/No): y\n",
      "14\n",
      "guess a number between 0 to 20: 14\n",
      "your guess is correct\n",
      "Do you want to play again?(Yes/No): n\n"
     ]
    }
   ],
   "source": [
    "import random\n",
    "gameOn = True\n",
    "\n",
    "def shuffledlist():\n",
    "    randlist = [i for i in range(0,21)]\n",
    "    random.shuffle(randlist)\n",
    "    shuffledlist.popped = randlist.pop()\n",
    "    print(shuffledlist.popped)\n",
    "\n",
    "shuffledlist()\n",
    "\n",
    "while gameOn==True:\n",
    "    user = int(input('guess a number between 0 to 20: '))\n",
    "        \n",
    "    if shuffledlist.popped == user:\n",
    "        print('your guess is correct')\n",
    "        ans = input('Do you want to play again?(Yes/No): ').lower()\n",
    "        \n",
    "        if ans[0]=='y':\n",
    "            gameOn = True\n",
    "            shuffledlist()\n",
    "        else:\n",
    "            gameOn = False \n",
    "        continue\n",
    "    \n",
    "    elif shuffledlist.popped>user:\n",
    "        print('your guess is lesser than the number')\n",
    "        \n",
    "        \n",
    "    elif shuffledlist.popped<user:\n",
    "        print('your guess is greater than the number')\n",
    "        "
   ]
  },
  {
   "cell_type": "code",
   "execution_count": null,
   "metadata": {},
   "outputs": [],
   "source": []
  }
 ],
 "metadata": {
  "kernelspec": {
   "display_name": "Python 3",
   "language": "python",
   "name": "python3"
  }
 },
 "nbformat": 4,
 "nbformat_minor": 2
}
